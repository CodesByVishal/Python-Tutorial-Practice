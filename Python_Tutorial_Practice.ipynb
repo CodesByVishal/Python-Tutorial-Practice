{
  "nbformat": 4,
  "nbformat_minor": 0,
  "metadata": {
    "colab": {
      "provenance": [],
      "authorship_tag": "ABX9TyOkyv8HZh76sHN7VjVaCcLZ",
      "include_colab_link": true
    },
    "kernelspec": {
      "name": "python3",
      "display_name": "Python 3"
    },
    "language_info": {
      "name": "python"
    }
  },
  "cells": [
    {
      "cell_type": "markdown",
      "metadata": {
        "id": "view-in-github",
        "colab_type": "text"
      },
      "source": [
        "<a href=\"https://colab.research.google.com/github/CodesByVishal/Python-Tutorial-Practice/blob/main/Python_Tutorial_Practice.ipynb\" target=\"_parent\"><img src=\"https://colab.research.google.com/assets/colab-badge.svg\" alt=\"Open In Colab\"/></a>"
      ]
    },
    {
      "cell_type": "markdown",
      "source": [
        "# Prime Number"
      ],
      "metadata": {
        "id": "Ta7ZZTONulTe"
      }
    },
    {
      "cell_type": "code",
      "execution_count": 6,
      "metadata": {
        "colab": {
          "base_uri": "https://localhost:8080/"
        },
        "id": "OkxRf0CfqGqt",
        "outputId": "671beed9-e850-4914-bd58-dd9ef37972d2"
      },
      "outputs": [
        {
          "output_type": "stream",
          "name": "stdout",
          "text": [
            "Enter the number to check : 55\n",
            "The number 55 is not a prime number since it's divisible by 5.\n"
          ]
        }
      ],
      "source": [
        "num = int(input(\"Enter the number to check : \"))\n",
        "for i in range(2,num):\n",
        "  if num%i == 0:\n",
        "    print(f\"The number {num} is not a prime number since it's divisible by {i}.\")\n",
        "    break\n",
        "else:\n",
        "  print(f\"The number {num} is a prime number.\")"
      ]
    },
    {
      "cell_type": "markdown",
      "source": [
        "# Unique Strings"
      ],
      "metadata": {
        "id": "AzM8YQSTutu0"
      }
    },
    {
      "cell_type": "code",
      "source": [
        "string = input(\"Enter the string : \")\n",
        "characters = set(string)\n",
        "if len(characters) == len(string):\n",
        "  print(\"The string has unique characters.\")\n",
        "else:\n",
        "  print(\"The string has duplicate characters.\")"
      ],
      "metadata": {
        "colab": {
          "base_uri": "https://localhost:8080/"
        },
        "id": "rMMu8CZgu5hj",
        "outputId": "ab0b76d9-9c87-4fbb-9aa3-aa654dcd93fd"
      },
      "execution_count": 3,
      "outputs": [
        {
          "output_type": "stream",
          "name": "stdout",
          "text": [
            "Enter the string : g gfe hiuewh uihgieuh  giugri iuigu iuiuehg   geiiuu\n",
            "The string has duplicate characters.\n"
          ]
        }
      ]
    }
  ]
}