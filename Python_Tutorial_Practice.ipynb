{
  "nbformat": 4,
  "nbformat_minor": 0,
  "metadata": {
    "colab": {
      "provenance": [],
      "authorship_tag": "ABX9TyMfHoVd+rhJGk9fc0uqZjbv",
      "include_colab_link": true
    },
    "kernelspec": {
      "name": "python3",
      "display_name": "Python 3"
    },
    "language_info": {
      "name": "python"
    }
  },
  "cells": [
    {
      "cell_type": "markdown",
      "metadata": {
        "id": "view-in-github",
        "colab_type": "text"
      },
      "source": [
        "<a href=\"https://colab.research.google.com/github/CodesByVishal/Python-Tutorial-Practice/blob/main/Python_Tutorial_Practice.ipynb\" target=\"_parent\"><img src=\"https://colab.research.google.com/assets/colab-badge.svg\" alt=\"Open In Colab\"/></a>"
      ]
    },
    {
      "cell_type": "markdown",
      "source": [
        "# Code for cheking total time by a code"
      ],
      "metadata": {
        "id": "W_GA0F2vBmam"
      }
    },
    {
      "cell_type": "code",
      "source": [
        "import time\n",
        "\n",
        "start_time = time.time()\n",
        "\n",
        "# Your code to measure execution time here\n",
        "# Enter the value in the input section so that only time taken by code is calculated\n",
        "\n",
        "\n",
        "\n",
        "\n",
        "end_time = time.time()\n",
        "execution_time = end_time - start_time\n",
        "\n",
        "print(\"Execution time:\", execution_time, \"seconds\")"
      ],
      "metadata": {
        "colab": {
          "base_uri": "https://localhost:8080/"
        },
        "id": "uva-P2QQBk0j",
        "outputId": "2051e324-1cc7-4113-c3af-50935f943921"
      },
      "execution_count": null,
      "outputs": [
        {
          "output_type": "stream",
          "name": "stdout",
          "text": [
            "6\n",
            "Execution time: 0.0003180503845214844 seconds\n"
          ]
        }
      ]
    },
    {
      "cell_type": "markdown",
      "source": [
        "# Prime Number"
      ],
      "metadata": {
        "id": "Ta7ZZTONulTe"
      }
    },
    {
      "cell_type": "code",
      "execution_count": null,
      "metadata": {
        "colab": {
          "base_uri": "https://localhost:8080/"
        },
        "id": "OkxRf0CfqGqt",
        "outputId": "671beed9-e850-4914-bd58-dd9ef37972d2"
      },
      "outputs": [
        {
          "output_type": "stream",
          "name": "stdout",
          "text": [
            "Enter the number to check : 55\n",
            "The number 55 is not a prime number since it's divisible by 5.\n"
          ]
        }
      ],
      "source": [
        "num = int(input(\"Enter the number to check : \"))\n",
        "for i in range(2,num):\n",
        "  if num%i == 0:\n",
        "    print(f\"The number {num} is not a prime number since it's divisible by {i}.\")\n",
        "    break\n",
        "else:\n",
        "  print(f\"The number {num} is a prime number.\")"
      ]
    },
    {
      "cell_type": "markdown",
      "source": [
        "# Unique Strings"
      ],
      "metadata": {
        "id": "AzM8YQSTutu0"
      }
    },
    {
      "cell_type": "code",
      "source": [
        "string = input(\"Enter the string : \")\n",
        "characters = set(string)\n",
        "if len(characters) == len(string):\n",
        "  print(\"The string has unique characters.\")\n",
        "else:\n",
        "  print(\"The string has duplicate characters.\")"
      ],
      "metadata": {
        "colab": {
          "base_uri": "https://localhost:8080/"
        },
        "id": "rMMu8CZgu5hj",
        "outputId": "ab0b76d9-9c87-4fbb-9aa3-aa654dcd93fd"
      },
      "execution_count": null,
      "outputs": [
        {
          "output_type": "stream",
          "name": "stdout",
          "text": [
            "Enter the string : g gfe hiuewh uihgieuh  giugri iuigu iuiuehg   geiiuu\n",
            "The string has duplicate characters.\n"
          ]
        }
      ]
    },
    {
      "cell_type": "markdown",
      "source": [
        "# Palindrome"
      ],
      "metadata": {
        "id": "NJorvtpGw9ok"
      }
    },
    {
      "cell_type": "code",
      "source": [
        "char = input(\"Enter the string : \").lower()\n",
        "if char == char[:: -1]:\n",
        "  print(\"The string is a palindrome.\")\n",
        "else:\n",
        "  print(\"The string is not a palindrome.\")"
      ],
      "metadata": {
        "colab": {
          "base_uri": "https://localhost:8080/"
        },
        "id": "fTsp_3jPw_r7",
        "outputId": "d89474c0-79bf-4694-f8a6-0f95b77da8d2"
      },
      "execution_count": null,
      "outputs": [
        {
          "output_type": "stream",
          "name": "stdout",
          "text": [
            "Enter the string : VisiV\n",
            "The string is a palindrome.\n"
          ]
        }
      ]
    },
    {
      "cell_type": "markdown",
      "source": [
        "# Convert any word to a Palindrome\n"
      ],
      "metadata": {
        "id": "uNOTFKnqyT51"
      }
    },
    {
      "cell_type": "code",
      "source": [
        "char = input(\"Enter the string : \") # Bulbul = BulluB\n",
        "l = len(char)\n",
        "if l%2 == 0:\n",
        "  print(char[:(l//2)] + char[(l//2)-1:: -1])\n",
        "else:\n",
        "  print(char[:(l//2)] + char[(l//2):: -1])\n"
      ],
      "metadata": {
        "colab": {
          "base_uri": "https://localhost:8080/"
        },
        "id": "1K8IuiG7xcI5",
        "outputId": "54bad669-428b-422e-a12d-9c1627f29065"
      },
      "execution_count": null,
      "outputs": [
        {
          "output_type": "stream",
          "name": "stdout",
          "text": [
            "Enter the string : Vishal\n",
            "VissiV\n"
          ]
        }
      ]
    },
    {
      "cell_type": "markdown",
      "source": [
        "#Python Program for Legendre\\’s Conjecture\n",
        "It says that there is always one prime number between any two consecutive natural number\\’s(n = 1, 2, 3, 4, 5, …) square. This is called Legendre\\’s Conjecture.\n",
        "Conjecture: A conjecture is a proposition or conclusion based upon incompleate information to which no proof has been found i.e it has not been proved or disproved.\n",
        "\n",
        "Mathematically,\n",
        "there is always one prime p in the range n^2 to (n + 1)^2 where n is any natural number.\n",
        "\n",
        "for examples-\n",
        "2 and 3 are the primes in the range 1^2 to 2^2.\n",
        "\n",
        "5 and 7 are the primes in the range 2^2 to 3^2.\n",
        "\n",
        "11 and 13 are the primes in the range 3^2 to 4^2.\n",
        "\n",
        "17 and 19 are the primes in the range 4^2 to 5^2.\n",
        "\n",
        "Examples:\n",
        "\n",
        "Input : 4\n",
        "output: Primes in the range 16 and 25 are:\n",
        "        17\n",
        "        19\n",
        "        23\n",
        "\n",
        "Explanation: Here 4^2 = 16 and 5^2 = 25\n",
        "Hence, prime numbers between 16 and 25 are 17, 19 and 23.\n",
        "\n",
        "Input : 10\n",
        "Output: Primes in the range 100 and 121 are:\n",
        "        101\n",
        "        103\n",
        "        107\n",
        "        109\n",
        "        113\n"
      ],
      "metadata": {
        "id": "M0cXn8Bw1xZI"
      }
    },
    {
      "cell_type": "code",
      "source": [
        "n = int(input(\"Enter the number : \"))\n",
        "if n <= 1:\n",
        "  print('Enter a number greater than 1')\n",
        "else:\n",
        "  for i in range((n**2)+1,((n+1)**2)):\n",
        "    for j in range(2,i):\n",
        "      if i%j==0:\n",
        "        break\n",
        "    else:\n",
        "      print(i)\n",
        "\n"
      ],
      "metadata": {
        "colab": {
          "base_uri": "https://localhost:8080/"
        },
        "id": "5zCKEXuK1BPZ",
        "outputId": "f3a6c92b-6d1a-458b-de6f-200f28ef28c6"
      },
      "execution_count": null,
      "outputs": [
        {
          "output_type": "stream",
          "name": "stdout",
          "text": [
            "Enter the number : 10\n",
            "101\n",
            "103\n",
            "107\n",
            "109\n",
            "113\n"
          ]
        }
      ]
    },
    {
      "cell_type": "markdown",
      "source": [
        "***Prime Number Between 2 Numbers***"
      ],
      "metadata": {
        "id": "wZ8lkENu-06Q"
      }
    },
    {
      "cell_type": "code",
      "source": [
        "num= 16\n",
        "m = 25\n",
        "if num <= 1:\n",
        "  print('Enter a number greater than 1')\n",
        "else:\n",
        "  for i in range(num+1,m):\n",
        "    for j in range(2,i):\n",
        "      if i%j==0:\n",
        "        break\n",
        "    else:\n",
        "      print(i)\n"
      ],
      "metadata": {
        "colab": {
          "base_uri": "https://localhost:8080/"
        },
        "id": "-WJS1snE4fmP",
        "outputId": "45f0e221-374b-4682-ce94-3a9f597175a5"
      },
      "execution_count": null,
      "outputs": [
        {
          "output_type": "stream",
          "name": "stdout",
          "text": [
            "17\n",
            "19\n",
            "23\n"
          ]
        }
      ]
    },
    {
      "cell_type": "markdown",
      "source": [
        "# Python Program for Number of solutions to Modular Equations\n",
        "Given A and B, the task is to find the number of possible values that X can take such that the given modular equation (A mod X) = B holds good. Here, X is also called a solution of the modular equation.\n",
        "\n",
        "Examples:\n",
        "\n",
        "Input : A = 26, B = 2\n",
        "Output : 6\n",
        "Explanation\n",
        "X can be equal to any of {3, 4, 6, 8,\n",
        "12, 24} as A modulus any of these values\n",
        "equals 2 i. e., (26 mod 3) = (26 mod 4)\n",
        "= (26 mod 6) = (26 mod 8) =Output:2\n",
        "\n",
        "Input : 21 5\n",
        "Output : 2\n",
        "Explanation\n",
        "X can be equal to any of {8, 16} as A modulus\n",
        "any of these values equals 5 i.e. (21 mod\n",
        "8) = (21 mod 16) = 5"
      ],
      "metadata": {
        "id": "9qutCTV5B66_"
      }
    },
    {
      "cell_type": "code",
      "source": [
        "a= int(input('Enter the number : '))\n",
        "b= int(input('Enter the desired reminder : '))\n",
        "count = 0\n",
        "possible_values =[]\n",
        "for i in range(2, a):\n",
        "  if a%i == b:\n",
        "    possible_values.append(i)\n",
        "    count += 1\n",
        "print(f'Total Count {count} and possible values are {possible_values}')"
      ],
      "metadata": {
        "colab": {
          "base_uri": "https://localhost:8080/"
        },
        "id": "7SHbDH2mDRoa",
        "outputId": "54ff04bb-6e36-43be-dd4a-8a50cf765141"
      },
      "execution_count": null,
      "outputs": [
        {
          "output_type": "stream",
          "name": "stdout",
          "text": [
            "Enter the number : 26\n",
            "Enter the desired reminder : 2\n",
            "Total Count 6 and possible values are [3, 4, 6, 8, 12, 24]\n"
          ]
        }
      ]
    },
    {
      "cell_type": "markdown",
      "source": [
        "# Python Program for Triangular Matchstick Number\n",
        "\n",
        "Triangular matchstick numbers are a sequence of numbers that represent a triangular pattern formed using matchsticks. Each number in the sequence corresponds to the total number of matchsticks required to form a triangle with a certain number of layers. The pattern resembles a triangle made of matchsticks, and the number of matchsticks increases with each layer."
      ],
      "metadata": {
        "id": "XeOa-pwCGHdR"
      }
    },
    {
      "cell_type": "code",
      "source": [
        "n = int(input(\"enter the no of layers in triangle: \"))\n",
        "t = n*((n+1)/2)\n",
        "print(f'Triangular Matchstick Number for {n} Layers: {t}')"
      ],
      "metadata": {
        "colab": {
          "base_uri": "https://localhost:8080/"
        },
        "id": "SEUoZEZPGKe3",
        "outputId": "a4bc6b77-5935-4385-e4dc-53128cb4e401"
      },
      "execution_count": null,
      "outputs": [
        {
          "output_type": "stream",
          "name": "stdout",
          "text": [
            "enter the no of layers in triangle: 5\n",
            "Triangular Matchstick Number for 5 Layers: 15.0\n"
          ]
        }
      ]
    },
    {
      "cell_type": "markdown",
      "source": [
        "# Checking for Consecutive Zeros in a Number:\n",
        "The problem involves determining whether a given number has consecutive zeros in its representation for a given base. In this blog post, we will implement this solution using Python. The Python program will not only provide the implementation but also offer detailed explanations, the logic behind the solution, and example outputs."
      ],
      "metadata": {
        "id": "N_V3mESaKEwH"
      }
    },
    {
      "cell_type": "markdown",
      "source": [
        "***Creating a function to convert any number in a user defined base***"
      ],
      "metadata": {
        "id": "-EurzyMkKNMW"
      }
    },
    {
      "cell_type": "code",
      "source": [
        "def user_defined_base(num,base):\n",
        "  rem = None\n",
        "  que = None\n",
        "  n=''\n",
        "  while num> 0:\n",
        "    que = num//base\n",
        "    rem = num % base\n",
        "    num = que\n",
        "    n =  str(rem)  + n\n",
        "  return (int(n))\n",
        "\n",
        "num = 234\n",
        "base = 2\n",
        "user_defined_base(num,base)"
      ],
      "metadata": {
        "colab": {
          "base_uri": "https://localhost:8080/"
        },
        "id": "F2xq8iy-KWoJ",
        "outputId": "9ce85d12-fb07-4995-ba0e-a59e478363a5"
      },
      "execution_count": null,
      "outputs": [
        {
          "output_type": "execute_result",
          "data": {
            "text/plain": [
              "11101010"
            ]
          },
          "metadata": {},
          "execution_count": 3
        }
      ]
    },
    {
      "cell_type": "code",
      "source": [
        "def user_defined_base(num,base):\n",
        "  rem = None\n",
        "  que = None\n",
        "  n=''\n",
        "\n",
        "  while num> 0: # num = 121\n",
        "    que = num//base # que = 15, 1,1\n",
        "    rem = num % base # rem = 1, 7, 1\n",
        "    num = que\n",
        "    n =  str(rem)  + n # in reverse direction as we do in mathematics calculation\n",
        "  return (int(n))\n",
        "\n",
        "\n",
        "\n",
        "\n",
        "num = int(input(\"Enter the number : \"))\n",
        "\n",
        "base = int(input(\"Enter the desired base : \"))\n",
        "\n",
        "new_num = str(user_defined_base(num,base))\n",
        "\n",
        "print(f\"The number : {num} with base : {base} is = {int(new_num)}\")\n",
        "\n",
        "count = 0\n",
        "\n",
        "for i in range(len(str(new_num))-1):\n",
        "\n",
        "  if (new_num[i]==new_num[i+1])and(new_num[i]=='0'):\n",
        "    count = count + 1\n",
        "\n",
        "else:\n",
        "  if count== 0:\n",
        "    print(\"Consecutive zero NOT FOUND in the new number\")\n",
        "  elif count!= 0:\n",
        "    print(f\"Consecutive zero FOUND in the new number and count is {count}\")\n",
        "\n"
      ],
      "metadata": {
        "colab": {
          "base_uri": "https://localhost:8080/"
        },
        "id": "BltgAjtQOfuE",
        "outputId": "8e4d10d7-914c-47c8-bb48-eac537d75230"
      },
      "execution_count": null,
      "outputs": [
        {
          "output_type": "stream",
          "name": "stdout",
          "text": [
            "Enter the number : 100\n",
            "Enter the desired base : 2\n",
            "The number : 100 with base : 2 is = 1100100\n",
            "Consecutive zero FOUND in the new number and count is 2\n"
          ]
        }
      ]
    },
    {
      "cell_type": "markdown",
      "source": [
        "***Using count function***"
      ],
      "metadata": {
        "id": "aTHlEa9P5NDz"
      }
    },
    {
      "cell_type": "code",
      "source": [
        "def user_defined_base(num,base):\n",
        "  rem = None\n",
        "  que = None\n",
        "  n=''\n",
        "\n",
        "  while num> 0: # num = 121\n",
        "    que = num//base # que = 15, 1,1\n",
        "    rem = num % base # rem = 1, 7, 1\n",
        "    num = que\n",
        "    n =  str(rem)  + n # in reverse direction as we do in mathematics calculation\n",
        "  return (int(n))\n",
        "\n",
        "\n",
        "\n",
        "\n",
        "num = int(input(\"Enter the number : \"))\n",
        "\n",
        "base = int(input(\"Enter the desired base : \"))\n",
        "\n",
        "new_num = str(user_defined_base(num,base))\n",
        "\n",
        "print(f\"The number : {num} with base : {base} is = {int(new_num)}\")\n",
        "\n",
        "print(f\"Consecutive zero in the new number and count is : {new_num.count('00')}\")\n",
        "\n",
        "\n",
        "\n"
      ],
      "metadata": {
        "colab": {
          "base_uri": "https://localhost:8080/"
        },
        "id": "5U8BauLK4oUx",
        "outputId": "0ab7bf28-1111-4d3e-9a91-6c35173f4163"
      },
      "execution_count": null,
      "outputs": [
        {
          "output_type": "stream",
          "name": "stdout",
          "text": [
            "Enter the number : 121\n",
            "Enter the desired base : 8\n",
            "The number : 121 with base : 8 is = 171\n",
            "Consecutive zero in the new number and count is : 0\n"
          ]
        }
      ]
    },
    {
      "cell_type": "markdown",
      "source": [
        "# Python program to convert floating to binary\n",
        "\n",
        "Python doesn’t provide any inbuilt method to easily convert floating point decimal numbers to binary number. So, Let’s do this manually.\n",
        "\n",
        "Approach :\n",
        "\n",
        "To convert a floating point decimal number into binary, first convert the integer part into binary form and then fractional part into binary form and finally combine both results to get the final answer.\n",
        "For Integer Part, keep dividing the number by 2 and noting down the remainder until and unless the dividend is less than 2. If so, stop and copy all the remainders together.\n",
        "\n",
        "For Decimal Part, keep multiplying the decimal part with 2 until and unless 0 left as fractional part. After multiplying the first time, note down integral part and again multiply decimal part of the new value by 2. Keep doing this until reached a perfect number.\n",
        "\n",
        "\n",
        "Above steps can be written as :\n",
        "\n",
        "1(base 10) = 1(base 2) and .234(base 10) = .0011(base 2)\n",
        "\n",
        "\n",
        "\n",
        "Now, to get the binary of 1.234, merge both results as a complete number.\n",
        "\n",
        "(1)10 = (1)2\n",
        "\n",
        "(.234)10 = (.0011)2\n",
        "\n",
        "(1.234)10 = (1.0011...)2\n",
        "\n",
        "(1.234)10 = (1.0011)2  [approx.]"
      ],
      "metadata": {
        "id": "ppVeU5IsVa74"
      }
    },
    {
      "cell_type": "code",
      "source": [
        "def float_to_binary(num):\n",
        "  rem = None\n",
        "  que = None\n",
        "  final_number=''\n",
        "  if '.' not in num:\n",
        "    num = int(num)\n",
        "    while num> 0: # num = 121\n",
        "      que = num//2 # que = 15, 1,1\n",
        "      rem = num % 2 # rem = 1, 7, 1\n",
        "      num = que\n",
        "      final_number =  str(rem)  + final_number # in reverse direction as we do in mathematics calculation\n",
        "    return int(final_number)\n",
        "  else:\n",
        "    x = num.split(\".\")\n",
        "    integer_part=int(x[0]) # 100\n",
        "    float_part= float('0.' + x[1]) # 0.125\n",
        "\n",
        "# Integer part of the floating number\n",
        "    while integer_part> 0: # num = 100\n",
        "      que = integer_part//2 # que = 50, 25,12,6,3,1,0\n",
        "      rem = integer_part % 2 # rem = 0,0,1,0,0,1,1\n",
        "      integer_part = que\n",
        "      final_number =  str(rem) + final_number\n",
        "\n",
        "# Adding decimal after the integer part\n",
        "    final_number += '.' # adding '.' to integer part\n",
        "\n",
        "# Floating part of the floating number\n",
        "    while float_part> 0:\n",
        "      float_part = float_part*2 #.125 x 2 = 0.25\n",
        "      if float_part >= 1: # .25\n",
        "        final_number = final_number + '1'\n",
        "        float_part -= 1\n",
        "      else:\n",
        "        final_number = final_number + '0'\n",
        "    return final_number\n",
        "\n",
        "\n",
        "num= input(\"Enter the number to be converted in binary : \")\n",
        "float_to_binary(num)"
      ],
      "metadata": {
        "id": "J0u5DRhMVjdx",
        "colab": {
          "base_uri": "https://localhost:8080/"
        },
        "outputId": "06ef2598-da6d-485f-da24-98b9c21320cf"
      },
      "execution_count": 29,
      "outputs": [
        {
          "name": "stdout",
          "output_type": "stream",
          "text": [
            "Enter the number to be converted in binary : 100\n"
          ]
        },
        {
          "output_type": "execute_result",
          "data": {
            "text/plain": [
              "1100100"
            ]
          },
          "metadata": {},
          "execution_count": 29
        }
      ]
    },
    {
      "cell_type": "code",
      "source": [
        "def float_to_binary(num):\n",
        "  rem = None\n",
        "  que = None\n",
        "  final_number=''\n",
        "\n",
        "  x = num.split(\".\")\n",
        "  integer_part=int(x[0]) # 100\n",
        "  float_part= float('0.' + x[1]) # 0.125\n",
        "\n",
        "# Integer part of the floating number\n",
        "  while integer_part> 0: # num = 100\n",
        "    que = integer_part//2 # que = 50, 25,12,6,3,1,0\n",
        "    rem = integer_part % 2 # rem = 0,0,1,0,0,1,1\n",
        "    integer_part = que\n",
        "    final_number =  str(rem) + final_number\n",
        "\n",
        "# Adding decimal after the integer part\n",
        "  final_number += '.' # adding '.' to integer part\n",
        "\n",
        "# Floating part of the floating number\n",
        "  while float_part> 0:\n",
        "    float_part = float_part*2 #.125 x 2 = 0.25\n",
        "    if float_part >= 1: # .25\n",
        "      final_number = final_number + '1'\n",
        "      float_part -= 1\n",
        "    else:\n",
        "      final_number = final_number + '0'\n",
        "  return final_number\n",
        "\n",
        "num= input(\"Enter the number to be converted in binary : \")\n",
        "float_to_binary(num)"
      ],
      "metadata": {
        "colab": {
          "base_uri": "https://localhost:8080/",
          "height": 53
        },
        "id": "KlnKiL9RNI3q",
        "outputId": "36ed401a-1ea4-49bd-baa7-65d557b9b95e"
      },
      "execution_count": 31,
      "outputs": [
        {
          "name": "stdout",
          "output_type": "stream",
          "text": [
            "Enter the number to be converted in binary : 100.125\n"
          ]
        },
        {
          "output_type": "execute_result",
          "data": {
            "text/plain": [
              "'1100100.001'"
            ],
            "application/vnd.google.colaboratory.intrinsic+json": {
              "type": "string"
            }
          },
          "metadata": {},
          "execution_count": 31
        }
      ]
    },
    {
      "cell_type": "markdown",
      "source": [
        "# Python Program to Check if All Digits of a Number Divide It\n",
        "\n",
        "We will discuss and implement a Python program to check if all digits of a given number divide the number evenly. The program will take an integer as input and determine whether each digit of the number is a divisor of the original number. We will provide a step-by-step explanation of the algorithm, present the Python program, and showcase its output with examples.\n",
        "\n",
        "Algorithm for Checking if All Digits Divide the Number\n",
        "The algorithm to check if all digits of a number divide the number can be outlined as follows:\n",
        "\n",
        "***Input Number:*** Obtain the integer number as input.\n",
        "\n",
        "***Extract Digits:*** Extract individual digits from the number.\n",
        "\n",
        "***Check Division:*** For each digit, check if it divides the original number evenly (i.e., without a remainder).\n",
        "\n",
        "***All Digits Divide:*** If all digits divide the number without a remainder, the condition is satisfied.\n",
        "\n",
        "***Output Result:*** Display whether all digits divide the number or not."
      ],
      "metadata": {
        "id": "KTPMzs-yN4Ao"
      }
    },
    {
      "cell_type": "code",
      "source": [],
      "metadata": {
        "id": "26jh8DG-N_Rw"
      },
      "execution_count": null,
      "outputs": []
    }
  ]
}